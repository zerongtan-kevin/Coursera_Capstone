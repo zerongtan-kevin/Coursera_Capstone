{
 "cells": [
  {
   "cell_type": "markdown",
   "metadata": {},
   "source": [
    "# IBM Data Science Professional Certificate\n",
    "## Capstone project - Week 4 Submission\n",
    "\n",
    "This notebook is created for the capstone project in the course 'Applied Data Science Capstone'. The purpose of the program discribed by this notebook is to use the Foursquare API to explore the neighbourhoods in Singapore and determine the best location to open a restaurant.\n",
    "\n",
    "The program notebook will be split into 3 sections. The first section deals with the loading the required libraries. The second section deals with the scraping the neighbourhood dataset from online sources and processing the dataset to a desired form. The last section deals with the analysis of the data."
   ]
  },
  {
   "cell_type": "markdown",
   "metadata": {},
   "source": [
    "## Introduction\n",
    "\n",
    "France, and her capital Paris, is one of the premier travel destinations in the world. This can also be said of an international city like Singapore. With Singapore and Paris being two cities that are major centers of finance, commerce and arts, in their respective regions. Additionally, both cities are known for their gastronomic achievements. While at almost opposite sides of the world, there are similarities and unique insides that can be obtained by a comparison of their neighborhoods. For example, a traveler travelling to Paris from Singapore might want to know if a neighborhood has a high concentration of restaurants. Another example would be to advise an immigrant from Singapore to Paris, if a neighborhood is like another neighborhood in either Singapore or Paris.  \n",
    "\n",
    "This short program would provide a quick macro view of the neighborhoods in Singapore and Paris and find any similarities in the most populous neighborhood. Specifically, the program leverages on the Foursquare API to help travelers or immigrants decide on neighborhoods to stay in Paris that are like neighborhoods in Singapore.  "
   ]
  },
  {
   "cell_type": "markdown",
   "metadata": {},
   "source": [
    "## Data\n",
    "\n",
    "To build the business case for selecting Singapore and Paris, we look at the data provided by the World Bank. This Data is provided in CSV format and plotted on a line graph to see growth trends in international travelers. Null values are replaced with a ‘0’ value. This is to prevent the data being skewed unnecessarily. Singapore is selected as the baseline city due to its position as a transport hub in South-East Asian and the positive trend in international arrivals coming from the city state. \n",
    "\n",
    "The neighborhood data is obtained from the Wikipedia page detailing the planning areas of Singapore and the breakdown of the Paris ‘Arrondissement’ system. The ‘BeautifulSoup’ package is used to parse the required data from the separate webpages into Python. The parsed data is then pre-processed to a Data Frame of 4 columns. The 4 columns are ‘Neighborhood’, ‘Region’, ‘Area’ and the ‘Population’. The ‘Neighborhood’ column details the name of the neighborhood or planning area reviewed. The ‘Region’ details the planning region used by the city. The ’Area’ column details the size of the Neighborhood reviewed and are measured in kilometers squared, km2. The ‘Population’ column details the population living in the area per the last census conducted. \n",
    "\n",
    "The Data obtained for Singapore contains areas where there are no residential areas, these are seen by the null value in the population column. These values are dropped from the dataset as they provide no meaningful information. Additionally, as Singapore is a dense urban environment, areas that are below 1000 in population are removed from the data as these areas are either water catchment zones or industrial areas. "
   ]
  },
  {
   "cell_type": "code",
   "execution_count": null,
   "metadata": {},
   "outputs": [],
   "source": []
  }
 ],
 "metadata": {
  "kernelspec": {
   "display_name": "Python 3",
   "language": "python",
   "name": "python3"
  },
  "language_info": {
   "codemirror_mode": {
    "name": "ipython",
    "version": 3
   },
   "file_extension": ".py",
   "mimetype": "text/x-python",
   "name": "python",
   "nbconvert_exporter": "python",
   "pygments_lexer": "ipython3",
   "version": "3.7.6"
  }
 },
 "nbformat": 4,
 "nbformat_minor": 4
}
