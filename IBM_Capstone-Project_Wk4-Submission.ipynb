{
 "cells": [
  {
   "cell_type": "markdown",
   "metadata": {},
   "source": [
    "# IBM Data Science Professional Certificate\n",
    "## Capstone project - Week 4 Submission\n",
    "\n",
    "This notebook is created for the capstone project in the course 'Applied Data Science Capstone'. The purpose of the program discribed by this notebook is to use the Foursquare API to explore the neighbourhoods in Singapore and Paris to determine if there are similarities in venues for the largest neighborhoods.\n",
   ]
  },
  {
   "cell_type": "markdown",
   "metadata": {},
   "source": [
    "## Introduction\n",
    "\n",
    "France, and her capital Paris, is one of the premier travel destinations in the world. This can also be said of an international city like Singapore. With Singapore and Paris being two cities that are major centers of finance, commerce and arts in their respective regions, a comparison of the venues in each neighborhood at both cities can provide unique insights.\n",
    "\n",
    "Noting that a more authentic view of countries is desired by travellers, as can be seen by the rise of AirBnB, this program aims to provide travellers with data to make a choice on which neighborhood they can consider staying in. Therefore, the target audience would be travelers and migrants moving from Singapore to Paris. For example, a traveler travelling to Paris from Singapore might want to know if a neighborhood has a high concentration of restaurants compared to a familiar neighborhood in Singapore. Another example would be to advise an immigrant from Singapore to Paris, if a neighborhood provides similar amenities like another neighborhood in Singapore.\n",
    "\n",
    "This short program would provide a quick macro view of the neighborhoods in Singapore and Paris and find any similarities in the most populous neighborhood. Specifically, the program leverages on the Foursquare API to help travelers or immigrants decide on neighborhoods to stay in Paris that are like neighborhoods in Singapore by comparing venues in the neighborhoods."
   ]
  },
  {
   "cell_type": "markdown",
   "metadata": {},
   "source": [
    "## Data\n",
    "\n",
    "To build the business case for selecting Singapore and Paris, we look at the data provided by the World Bank. This Data is provided in CSV format and shows the internation arrivals from Singapore from 1995 to 2018. This data is plotted on a line graph to see growth trends in international travelers. Null values are replaced with a ‘0’ value. This is to prevent the data being skewed unnecessarily. Singapore is selected as the baseline city due to its position as a transport hub in South-East Asian and the positive trend in international arrivals coming from the city state.\n",
    "\n",
    "The neighborhood data is obtained from the Wikipedia page detailing the planning areas of Singapore and the breakdown of the Paris ‘Arrondissement’ system. The ‘BeautifulSoup’ package is used to parse the required data from the separate webpages into Python. The parsed data is then pre-processed to a Data Frame of 4 columns. The 4 columns are ‘Neighborhood’, ‘Region’, ‘Area’ and the ‘Population’. The ‘Neighborhood’ column details the name of the neighborhood or planning area reviewed. The ‘Region’ details the planning region used by the city. The ’Area’ column details the size of the Neighborhood reviewed and are measured in kilometers squared, km2. The ‘Population’ column details the population living in the area per the last census conducted.\n",
    "\n",
    "The Data obtained for Singapore contains areas where there are no residential areas, these are seen by the null value in the population column. These values are dropped from the dataset as they provide no meaningful information. Additionally, as Singapore is a dense urban environment, areas that are below 1000 in population are removed from the data as these areas are either water catchment zones or industrial areas.\n",
    "\n",
    "The FourSquare API is used to pull venue data from each neighborhood. The venue data is then processed to a data frame, and information on the venue and venue categories for each neighborhood is obtained and compared for Singapore and Paris. An example would be to obtain data showing which neighborhoods contain more cafes. "
   ]
  },
  {
   "cell_type": "code",
   "execution_count": null,
   "metadata": {},
   "outputs": [],
   "source": []
  }
 ],
 "metadata": {
  "kernelspec": {
   "display_name": "Python 3",
   "language": "python",
   "name": "python3"
  },
  "language_info": {
   "codemirror_mode": {
    "name": "ipython",
    "version": 3
   },
   "file_extension": ".py",
   "mimetype": "text/x-python",
   "name": "python",
   "nbconvert_exporter": "python",
   "pygments_lexer": "ipython3",
   "version": "3.7.6"
  }
 },
 "nbformat": 4,
 "nbformat_minor": 4
}
